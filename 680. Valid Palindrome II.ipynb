{
 "cells": [
  {
   "cell_type": "markdown",
   "metadata": {},
   "source": [
    "## 680. Valid Palindrome II\n",
    "Questions:\n",
    "Given a string s, return true if the s can be palindrome after deleting at most one character from it.\n",
    "\n",
    "**Example 1:**<br>\n",
    "Input: s = \"aba\"<br>\n",
    "Output: true<br>\n",
    "\n",
    "**Example 2:**<br>\n",
    "Input: s = \"abca\"<br>\n",
    "Output: true<br>\n",
    "Explanation: You could delete the character 'c'.<br>\n",
    "\n",
    "**Example 3:**<br>\n",
    "Input: s = \"abc\"<br>\n",
    "Output: false<br>\n",
    " \n",
    "\n",
    "**Constraints:**<br>\n",
    "\n",
    "- 1 <= s.length <= 105<br>\n",
    "- s consists of lowercase English letters.<br>\n",
    "\n",
    "---\n",
    "\n",
    "解題思路：\n",
    "1. 將一數組由最右、最左開始向中心移動並比較\n",
    "2. 因為可以有一次刪除文字的機會，因此若出現某位置文字不相等，可互略，並向中心繼續比較，忽略方式有以下兩種\n",
    "    - 右方指針繼續向左而左方指針不變\n",
    "    - 或是左方指針繼續向右而右方指針不變\n",
    "3. 若經過1,2後沒有出現錯誤，則返回 True"
   ]
  },
  {
   "cell_type": "code",
   "execution_count": 1,
   "metadata": {},
   "outputs": [],
   "source": [
    "def validPalindrome(s) -> bool:\n",
    "        def is_palindrome(s, left, right):\n",
    "            while left < right:\n",
    "                if s[left] != s[right]:\n",
    "                    return False\n",
    "                left += 1\n",
    "                right -= 1\n",
    "            return True\n",
    "        \n",
    "        if not s:\n",
    "            return True\n",
    "        \n",
    "        left = 0\n",
    "        right = len(s) - 1\n",
    "        \n",
    "        while left < right:\n",
    "            if s[left] != s[right]:\n",
    "                return is_palindrome(s, left+1, right) or is_palindrome(s, left, right-1)\n",
    "            left += 1\n",
    "            right -= 1\n",
    "            \n",
    "        return True"
   ]
  },
  {
   "cell_type": "code",
   "execution_count": 2,
   "metadata": {},
   "outputs": [],
   "source": [
    "s = \"abccdjkkdba\""
   ]
  },
  {
   "cell_type": "code",
   "execution_count": 3,
   "metadata": {},
   "outputs": [
    {
     "data": {
      "text/plain": [
       "False"
      ]
     },
     "execution_count": 3,
     "metadata": {},
     "output_type": "execute_result"
    }
   ],
   "source": [
    "validPalindrome(s)"
   ]
  },
  {
   "cell_type": "code",
   "execution_count": null,
   "metadata": {},
   "outputs": [],
   "source": []
  }
 ],
 "metadata": {
  "kernelspec": {
   "display_name": "Python 3",
   "language": "python",
   "name": "python3"
  },
  "language_info": {
   "codemirror_mode": {
    "name": "ipython",
    "version": 3
   },
   "file_extension": ".py",
   "mimetype": "text/x-python",
   "name": "python",
   "nbconvert_exporter": "python",
   "pygments_lexer": "ipython3",
   "version": "3.7.4"
  }
 },
 "nbformat": 4,
 "nbformat_minor": 2
}
